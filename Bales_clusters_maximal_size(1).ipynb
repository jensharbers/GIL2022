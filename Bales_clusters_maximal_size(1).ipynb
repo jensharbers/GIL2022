{
 "cells": [
  {
   "cell_type": "code",
   "execution_count": 1,
   "metadata": {},
   "outputs": [],
   "source": [
    "import pulp\n",
    "import numpy as np\n",
    "\n",
    "\n",
    "def l2_distance(x1,x2):\n",
    "    ssq = np.sum(np.square(np.array(x1) - np.array(x2)))\n",
    "    return ssq\n",
    "\n",
    "#def l2_distance(point1, point2):\n",
    "#    return sum([(float(i)-float(j))**2 for (i,j) in zip(point1, point2)])\n",
    "\n",
    "\n",
    "class subproblem(object):\n",
    "    def __init__(self, centroids, data, min_size, max_size):\n",
    "\n",
    "        self.centroids = centroids\n",
    "        self.data = data\n",
    "        self.min_size = min_size\n",
    "        self.max_size= max_size\n",
    "        self.n = len(data)\n",
    "        self.k = len(centroids)\n",
    "\n",
    "        self.create_model()\n",
    "\n",
    "    def create_model(self):\n",
    "        def distances(assignment):\n",
    "            return l2_distance(self.data[assignment[0]], self.centroids[assignment[1]])\n",
    "\n",
    "        clusters = list(range(self.k))\n",
    "        assignments = [(i, j)for i in range(self.n) for j in range(self.k)]\n",
    "\n",
    "        self.y = pulp.LpVariable.dicts('Clustering',\n",
    "                                  assignments,\n",
    "                                  lowBound=0,\n",
    "                                  upBound=1,\n",
    "                                  cat=pulp.LpInteger)\n",
    "\n",
    "        self.b = pulp.LpVariable.dicts('Clusterausgabe',\n",
    "                                  clusters,\n",
    "                                  lowBound=0,\n",
    "                                  upBound=self.n-self.min_size,\n",
    "                                  cat=pulp.LpContinuous)\n",
    "\n",
    "        # create the model\n",
    "        self.model = pulp.LpProblem(\"Subproblemmodell\", pulp.LpMinimize)\n",
    "\n",
    "        # objective function\n",
    "        self.model += pulp.lpSum([distances(assignment) * self.y[assignment] for assignment in assignments])\n",
    "\n",
    "        # flow balance constraints for data nodes\n",
    "        for i in range(self.n):\n",
    "            self.model += pulp.lpSum(self.y[(i, j)] for j in range(self.k)) == 1\n",
    "\n",
    "        # flow balance constraints for cluster nodes\n",
    "        for j in range(self.k):\n",
    "            self.model += pulp.lpSum(self.y[(i, j)] for i in range(self.n)) - self.min_size == self.b[j]\n",
    "            \n",
    "        # capacity constraint on outflow of cluster nodes\n",
    "        for j in range(self.k):\n",
    "            self.model += self.b[j] <= self.max_size - self.min_size \n",
    "\n",
    "        # flow balance constraint for the sink node\n",
    "        self.model += pulp.lpSum(self.b[j] for j in range(self.k)) == self.n - (self.k * self.min_size)\n",
    "\n",
    "\n",
    "    def solve(self):\n",
    "        self.status = self.model.solve()\n",
    "\n",
    "        clusters = None\n",
    "        if self.status == 1:\n",
    "            clusters= [-1 for i in range(self.n)]\n",
    "            for i in range(self.n):\n",
    "                for j in range(self.k):\n",
    "                    if self.y[(i, j)].value() > 0:\n",
    "                        clusters[i] = j\n",
    "        #print(clusters)\n",
    "        return clusters\n",
    "\n",
    "def initialize_centers(dataset, k):\n",
    "    ids = list(range(len(dataset)))\n",
    "    np.random.shuffle(ids)\n",
    "    return [dataset[id] for id in ids[:k]]\n",
    "\n",
    "def compute_centers(clusters, dataset):\n",
    "    # canonical labeling of clusters\n",
    "    ids = list(set(clusters))\n",
    "    c_to_id = dict()\n",
    "    for j, c in enumerate(ids):\n",
    "        c_to_id[c] = j\n",
    "    for j, c in enumerate(clusters):\n",
    "        clusters[j] = c_to_id[c]\n",
    "\n",
    "    k = len(ids)\n",
    "    dim = len(dataset[0])\n",
    "    centers = [[0.0] * dim for i in range(k)]\n",
    "    counts = [0] * k\n",
    "    for j, c in enumerate(clusters):\n",
    "        for i in range(dim):\n",
    "            centers[c][i] += dataset[j][i]\n",
    "        counts[c] += 1\n",
    "    for j in range(k):\n",
    "        for i in range(dim):\n",
    "            centers[j][i] = centers[j][i]/float(counts[j])\n",
    "    return clusters, centers\n",
    "\n",
    "def minsize_kmeans(dataset, k, min_size=0, max_size=None):\n",
    "    n = len(dataset)\n",
    "    if max_size == None:\n",
    "        max_size = n\n",
    "\n",
    "    centers = initialize_centers(dataset, k)\n",
    "    clusters = [-1] * n\n",
    "\n",
    "    converged = False\n",
    "    while not converged:\n",
    "        m = subproblem(centers, dataset, min_size, max_size)\n",
    "        clusters_ = m.solve()\n",
    "        if not clusters_:\n",
    "            return None, None\n",
    "        clusters_, centers = compute_centers(clusters_, dataset)\n",
    "\n",
    "        converged = True\n",
    "        i = 0\n",
    "        while converged and i < len(dataset):\n",
    "            if clusters[i] != clusters_[i]:\n",
    "                converged = False\n",
    "            i += 1\n",
    "        clusters = clusters_\n",
    "\n",
    "    return clusters, centers\n",
    "\n",
    "def cluster_quality(cluster):\n",
    "    if len(cluster) == 0:\n",
    "        return 0.0\n",
    "\n",
    "    quality = 0.0\n",
    "    for i in range(len(cluster)):\n",
    "        for j in range(i, len(cluster)):\n",
    "            quality += l2_distance(cluster[i], cluster[j])\n",
    "            \n",
    "    return quality / len(cluster)\n",
    "\n",
    "def compute_quality(data, cluster_indices):\n",
    "    clusters = dict()\n",
    "    for i, c in enumerate(cluster_indices):\n",
    "        if c in clusters:\n",
    "            clusters[c].append(data[i])\n",
    "        else:\n",
    "            clusters[c] = [data[i]]\n",
    "    return sum(cluster_quality(c) for c in clusters.values())"
   ]
  },
  {
   "cell_type": "code",
   "execution_count": 2,
   "metadata": {
    "scrolled": false
   },
   "outputs": [
    {
     "name": "stdout",
     "output_type": "stream",
     "text": [
      "Version of Pandas: 1.0.3\n",
      "Version of GeoPandas: 0.6.1\n",
      "Version of numpy: 1.18.1\n",
      "Version of pulp: 2.5.0\n",
      "Version of random: same as python!\n"
     ]
    }
   ],
   "source": [
    "import numpy as np\n",
    "import pandas as pd\n",
    "import geopandas as gpd\n",
    "print(\"Version of Pandas:\",pd.__version__)\n",
    "print(\"Version of GeoPandas:\",gpd.__version__)\n",
    "print(\"Version of numpy:\",np.__version__)\n",
    "print(\"Version of pulp:\",pulp.__version__)\n",
    "print(\"Version of random: same as python!\") # has no version by itself."
   ]
  },
  {
   "cell_type": "code",
   "execution_count": 3,
   "metadata": {
    "scrolled": true
   },
   "outputs": [
    {
     "data": {
      "text/plain": [
       "<matplotlib.axes._subplots.AxesSubplot at 0x19f675a0c88>"
      ]
     },
     "execution_count": 3,
     "metadata": {},
     "output_type": "execute_result"
    },
    {
     "data": {
      "image/png": "[encoded data removed]",
      "text/plain": [
       "<Figure size 432x288 with 1 Axes>"
      ]
     },
     "metadata": {
      "needs_background": "light"
     },
     "output_type": "display_data"
    }
   ],
   "source": [
    "fields = gpd.read_file(\"C:\\\\Users\\\\Jens Harbers\\\\Documents\\\\skizzen\\\\gfn_schlaege.shp\")\n",
    "fields.crs = \"epsg:25832\"\n",
    "my_fields = fields[fields.OBJEKT_ID<300]\n",
    "my_fields.plot(column='OBJEKT_ID', cmap = \"rainbow\")"
   ]
  },
  {
   "cell_type": "code",
   "execution_count": 4,
   "metadata": {
    "scrolled": false
   },
   "outputs": [
    {
     "data": {
      "text/plain": [
       "<matplotlib.axes._subplots.AxesSubplot at 0x19f678dbf98>"
      ]
     },
     "execution_count": 4,
     "metadata": {},
     "output_type": "execute_result"
    },
    {
     "data": {
      "image/png": "[encoded data removed]",
      "text/plain": [
       "<Figure size 432x288 with 1 Axes>"
      ]
     },
     "metadata": {
      "needs_background": "light"
     },
     "output_type": "display_data"
    }
   ],
   "source": [
    "# pick a piece of land for simulation\n",
    "\n",
    "my_field = my_fields[my_fields.OBJEKT_ID==170]\n",
    "my_field.plot(color=\"green\",alpha=0.4)"
   ]
  },
  {
   "cell_type": "code",
   "execution_count": 5,
   "metadata": {},
   "outputs": [
    {
     "name": "stdout",
     "output_type": "stream",
     "text": [
      "0    42601.660758\n",
      "dtype: float64\n"
     ]
    }
   ],
   "source": [
    "print(my_field.area)\n",
    "# my_field.bounds #to get maximum extensions in both directions\n"
   ]
  },
  {
   "cell_type": "code",
   "execution_count": 6,
   "metadata": {},
   "outputs": [],
   "source": [
    "# simulate bales position using uniform distribution\n",
    "from numpy.random import MT19937\n",
    "from numpy.random import RandomState, SeedSequence\n",
    "\n",
    "##x = np.arange(0,my_field.bounds.maxx.values - my_field.bounds.minx.values,22) + my_field.bounds.minx.values\n",
    "##y = np.arange(0,my_field.bounds.maxy.values - my_field.bounds.miny.values,15) + my_field.bounds.miny.values\n",
    "\n",
    "x = np.arange(0,300,22) + my_field.bounds.minx.values\n",
    "y = np.arange(0,250,15) + my_field.bounds.miny.values\n",
    "\n",
    "xx,yy = np.meshgrid(x,y,sparse=False)\n",
    "\n",
    "rs = RandomState(MT19937(SeedSequence(27438745)))\n",
    "xx = rs.random(xx.shape) * 15 + xx\n",
    "yy = rs.random(xx.shape) * 2 + yy\n",
    "\n",
    "sim_x = xx.reshape(-1)\n",
    "sim_y = yy.reshape(-1)\n",
    "bales_groups = pd.DataFrame({\"coords_x\":sim_x,\"coords_y\":sim_y})"
   ]
  },
  {
   "cell_type": "code",
   "execution_count": 7,
   "metadata": {},
   "outputs": [
    {
     "data": {
      "text/plain": [
       "array([5936546.11765098])"
      ]
     },
     "execution_count": 7,
     "metadata": {},
     "output_type": "execute_result"
    }
   ],
   "source": [
    "\n",
    "my_field.bounds.miny.values\n",
    "#my_field.bounds.minx.values"
   ]
  },
  {
   "cell_type": "code",
   "execution_count": 8,
   "metadata": {
    "scrolled": true
   },
   "outputs": [],
   "source": [
    "# use only those bales which are on piece of land (remove all other)\n",
    "gdf = gpd.GeoDataFrame(\n",
    "    bales_groups, geometry=gpd.points_from_xy(bales_groups.coords_x, bales_groups.coords_y))\n",
    "gdf.crs = \"epsg:25832\"\n",
    "\n",
    "gdf = gdf[[\"coords_x\",\"coords_y\",\"geometry\"]]\n",
    "\n",
    "join_bales_land = gpd.sjoin(gdf,my_field)"
   ]
  },
  {
   "cell_type": "code",
   "execution_count": 9,
   "metadata": {
    "scrolled": true
   },
   "outputs": [
    {
     "data": {
      "text/plain": [
       "<matplotlib.axes._subplots.AxesSubplot at 0x19f68982390>"
      ]
     },
     "execution_count": 9,
     "metadata": {},
     "output_type": "execute_result"
    },
    {
     "data": {
      "image/png": "[encoded data removed]",
      "text/plain": [
       "<Figure size 432x288 with 1 Axes>"
      ]
     },
     "metadata": {
      "needs_background": "light"
     },
     "output_type": "display_data"
    }
   ],
   "source": [
    "#plot the bales on the land\n",
    "from matplotlib import pyplot as plt\n",
    "ax = my_field.plot(color=\"green\")\n",
    "join_bales_land.plot(color=\"orange\",ax = ax,marker=\"s\")\n",
    "# plt.close()"
   ]
  },
  {
   "cell_type": "code",
   "execution_count": 14,
   "metadata": {},
   "outputs": [
    {
     "name": "stdout",
     "output_type": "stream",
     "text": [
      "number of bales on land: 127\n"
     ]
    }
   ],
   "source": [
    "best = None\n",
    "best_clusters = None\n",
    "NUM_ITER = 11\n",
    "min_size=1\n",
    "max_size=8 # maximum number of bales per round\n",
    "data=join_bales_land[[\"coords_x\",\"coords_y\"]].to_numpy()\n",
    "nbales=len(data)\n",
    "print(f\"number of bales on land: {nbales}\")\n"
   ]
  },
  {
   "cell_type": "code",
   "execution_count": 15,
   "metadata": {},
   "outputs": [],
   "source": [
    "# join_bales_land.to_csv(\"Ballen_9_jueck.csv\",sep=\";\")"
   ]
  },
  {
   "cell_type": "code",
   "execution_count": 16,
   "metadata": {
    "scrolled": false
   },
   "outputs": [
    {
     "name": "stdout",
     "output_type": "stream",
     "text": [
      "number of bales on land: 127\n",
      "number of rounds: 16\n"
     ]
    },
    {
     "name": "stderr",
     "output_type": "stream",
     "text": [
      "C:\\Anaconda\\lib\\site-packages\\pulp\\pulp.py:1316: UserWarning: Spaces are not permitted in the name. Converted to '_'\n",
      "  warnings.warn(\"Spaces are not permitted in the name. Converted to '_'\")\n"
     ]
    },
    {
     "name": "stdout",
     "output_type": "stream",
     "text": [
      "root of sum of squared distances: 241.7671, 0\n",
      "root of sum of squared distances: 238.8198, 10\n"
     ]
    }
   ],
   "source": [
    "# %%timeit\n",
    "best = None\n",
    "best_clusters = None\n",
    "NUM_ITER = 11\n",
    "min_size=1\n",
    "max_size=8 # maximum number of bales per round\n",
    "data=join_bales_land[[\"coords_x\",\"coords_y\"]].to_numpy()\n",
    "nbales=len(data)\n",
    "print(f\"number of bales on land: {nbales}\")\n",
    "\n",
    "k = np.ceil(nbales/max_size).astype(int) # round to the higher number and coerce it\n",
    "                                         # from float to integer\n",
    "print(f\"number of rounds: {k}\")\n",
    "for i in range(NUM_ITER):\n",
    "    clusters, centers = minsize_kmeans(data, k, min_size, max_size)\n",
    "    if clusters:\n",
    "        quality = compute_quality(data, clusters)\n",
    "        if not best or (quality < best):\n",
    "            best = quality\n",
    "            best_clusters = clusters\n",
    "        if best:\n",
    "            #print('cluster assignments:')\n",
    "            #for i in range(len(best_clusters)):\n",
    "            #    print('%d: %d'%(i, best_clusters[i]))\n",
    "            if i % 10 == 0:\n",
    "                print(f\"root of sum of squared distances: {round(best**0.5,4)}, {i}\")\n",
    "        else:\n",
    "            print('no clustering found')"
   ]
  },
  {
   "cell_type": "code",
   "execution_count": null,
   "metadata": {},
   "outputs": [],
   "source": []
  },
  {
   "cell_type": "code",
   "execution_count": 17,
   "metadata": {
    "scrolled": true
   },
   "outputs": [
    {
     "data": {
      "text/plain": [
       "<matplotlib.axes._subplots.AxesSubplot at 0x1f2842889b0>"
      ]
     },
     "execution_count": 17,
     "metadata": {},
     "output_type": "execute_result"
    },
    {
     "data": {
      "image/png": "[encoded data removed]",
      "text/plain": [
       "<Figure size 432x288 with 2 Axes>"
      ]
     },
     "metadata": {
      "needs_background": "light"
     },
     "output_type": "display_data"
    }
   ],
   "source": [
    "from matplotlib import pyplot as plt\n",
    "join_bales_land[\"groups\"] = best_clusters\n",
    "ax = my_field.plot(color=\"grey\", legend=None)\n",
    "ax = join_bales_land[[\"coords_x\",\"coords_y\",\"groups\"]].plot.scatter(ax=ax,x=\"coords_x\",y=\"coords_y\",c=\"groups\",cmap=\"rainbow\",legend=None)\n",
    "\n",
    "join_bales_land.groupby(\"groups\").mean()[[\"coords_x\",\"coords_y\"]].plot.scatter(ax=ax,x=\"coords_x\",y=\"coords_y\",c=\"black\",marker=\"X\",legend=None)"
   ]
  },
  {
   "cell_type": "code",
   "execution_count": null,
   "metadata": {},
   "outputs": [],
   "source": [
    "join_bales_land.groupby(\"groups\").mean()[[\"coords_x\",\"coords_y\"]].to_csv(\"clusterZentren.csv\",sep=\";\")"
   ]
  },
  {
   "cell_type": "code",
   "execution_count": 18,
   "metadata": {},
   "outputs": [],
   "source": [
    "groups_df = join_bales_land.groupby(\"groups\").mean()[[\"coords_x\",\"coords_y\"]]#.to_csv(\"clusterZentren.csv\",sep=\";\")\n",
    "\n",
    "mgd = pd.merge(join_bales_land,groups_df,how=\"left\", left_on=\"groups\",right_on=\"groups\")\n",
    "\n",
    "dists = np.sqrt((mgd.coords_x_x - mgd.coords_x_y)**2 + (mgd.coords_y_x - mgd.coords_y_y)**2)\n",
    "\n",
    "mgd[\"dists\"] = dists\n",
    "\n",
    "mgd.groupby(\"groups\").dists.mean().describe()\n",
    "#mgd.dists.describe()\n",
    "\n",
    "mgd.dists.sum()\n",
    "\n",
    "## Um Gruppenstärke bereinigte Distanz nach Gruppe\n",
    "(mgd.groupby(\"groups\").dists.sum() / mgd.groupby(\"groups\").dists.count()).to_csv(\"Gruppendistanzen.csv\")"
   ]
  },
  {
   "cell_type": "code",
   "execution_count": null,
   "metadata": {},
   "outputs": [],
   "source": [
    "# mgd.to_csv(\"ballen_distanzen.csv\")"
   ]
  },
  {
   "cell_type": "code",
   "execution_count": 19,
   "metadata": {
    "scrolled": true
   },
   "outputs": [
    {
     "data": {
      "text/plain": [
       "count    16.000000\n",
       "mean      7.812188\n",
       "std       1.356572\n",
       "min       5.082112\n",
       "25%       7.103997\n",
       "50%       8.402078\n",
       "75%       8.577983\n",
       "max       9.627184\n",
       "Name: dists, dtype: float64"
      ]
     },
     "execution_count": 19,
     "metadata": {},
     "output_type": "execute_result"
    }
   ],
   "source": [
    "(mgd.groupby(\"groups\").dists.std()).describe()"
   ]
  },
  {
   "cell_type": "code",
   "execution_count": 20,
   "metadata": {},
   "outputs": [
    {
     "data": {
      "text/plain": [
       "2516.949421273784"
      ]
     },
     "execution_count": 20,
     "metadata": {},
     "output_type": "execute_result"
    }
   ],
   "source": [
    "mgd.dists.sum()"
   ]
  }
 ],
 "metadata": {
  "kernelspec": {
   "display_name": "Python 3",
   "language": "python",
   "name": "python3"
  },
  "language_info": {
   "codemirror_mode": {
    "name": "ipython",
    "version": 3
   },
   "file_extension": ".py",
   "mimetype": "text/x-python",
   "name": "python",
   "nbconvert_exporter": "python",
   "pygments_lexer": "ipython3",
   "version": "3.7.3"
  }
 },
 "nbformat": 4,
 "nbformat_minor": 4
}
